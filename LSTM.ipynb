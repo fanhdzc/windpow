{
 "cells": [
  {
   "cell_type": "code",
   "execution_count": 1,
   "id": "d51d49a5-bbef-4c70-a654-48e3fbb7c668",
   "metadata": {},
   "outputs": [],
   "source": [
    "import pandas as pd\n",
    "import numpy as np\n",
    "from sklearn.preprocessing import MinMaxScaler\n",
    "from sklearn.model_selection import train_test_split\n",
    "from tensorflow.keras.models import Sequential\n",
    "from tensorflow.keras.layers import LSTM, Dense, Dropout, Input\n",
    "from tensorflow.keras.optimizers import Adam\n",
    "import time"
   ]
  },
  {
   "cell_type": "code",
   "execution_count": 2,
   "id": "511c08af-80dc-4a39-9ca6-5e9a4e0926e6",
   "metadata": {},
   "outputs": [],
   "source": [
    "df = pd.read_csv('scada.csv')"
   ]
  },
  {
   "cell_type": "code",
   "execution_count": 3,
   "id": "9e88387a-05fd-4285-9517-b66d89be5952",
   "metadata": {},
   "outputs": [],
   "source": [
    "df['Date/Time'] = pd.to_datetime(df['Date/Time'], format='%d %m %Y %H:%M', errors='coerce')\n",
    "df.set_index('Date/Time', inplace=True)\n",
    "df = df.sort_index()\n",
    "df.dropna(inplace=True)"
   ]
  },
  {
   "cell_type": "code",
   "execution_count": 4,
   "id": "2467da1a-d93e-4e0c-8208-fc602a37891c",
   "metadata": {},
   "outputs": [],
   "source": [
    "features = ['Wind Speed (m/s)', 'Wind Direction (°)', 'Theoretical_Power_Curve (KWh)']\n",
    "target = 'LV ActivePower (kW)'"
   ]
  },
  {
   "cell_type": "code",
   "execution_count": 5,
   "id": "d88acbd3-74ee-41d8-8b59-39cef4274966",
   "metadata": {},
   "outputs": [],
   "source": [
    "scaler_x = MinMaxScaler()\n",
    "scaler_y = MinMaxScaler()"
   ]
  },
  {
   "cell_type": "code",
   "execution_count": 6,
   "id": "fe8ea48e-73d2-4866-b023-13f9d78c933d",
   "metadata": {},
   "outputs": [],
   "source": [
    "scaled_features = scaler_x.fit_transform(df[features])\n",
    "scaled_target = scaler_y.fit_transform(df[[target]])"
   ]
  },
  {
   "cell_type": "code",
   "execution_count": 7,
   "id": "2d928a2d-f887-4b15-b95d-8e8f22b08501",
   "metadata": {},
   "outputs": [],
   "source": [
    "def create_sequences(features, target, time_steps=24):\n",
    "    X, y = [], []\n",
    "    for i in range(len(features) - time_steps):\n",
    "        X.append(features[i:i+time_steps])\n",
    "        y.append(target[i+time_steps])\n",
    "    return np.array(X), np.array(y)\n",
    "\n",
    "time_steps = 24  \n",
    "X, y = create_sequences(scaled_features, scaled_target, time_steps)"
   ]
  },
  {
   "cell_type": "code",
   "execution_count": 8,
   "id": "67066806-d44c-4c7f-8845-50a690fc3b92",
   "metadata": {},
   "outputs": [],
   "source": [
    "X_train, X_test, y_train, y_test = train_test_split(X, y, test_size=0.2, random_state=42)\n",
    "model = Sequential([\n",
    "    Input(shape=(X_train.shape[1], X_train.shape[2])),  # Capa de entrada explícita\n",
    "    LSTM(128, activation='tanh', return_sequences=True),\n",
    "    Dropout(0.3),\n",
    "    LSTM(64, activation='tanh'),\n",
    "    Dropout(0.3),\n",
    "    Dense(32, activation='relu'),\n",
    "    Dense(1)\n",
    "])\n"
   ]
  },
  {
   "cell_type": "code",
   "execution_count": 17,
   "id": "15894da5-d6ca-4562-8a37-e514e635f6f7",
   "metadata": {},
   "outputs": [],
   "source": [
    "model.compile(optimizer=Adam(learning_rate=0.0001), loss='mse', metrics=['mae'])"
   ]
  },
  {
   "cell_type": "code",
   "execution_count": 19,
   "id": "fdd2cc3f-f1d4-4808-9801-de0c654e1f71",
   "metadata": {},
   "outputs": [],
   "source": [
    "start_time = time.time()"
   ]
  },
  {
   "cell_type": "code",
   "execution_count": null,
   "id": "5af83e83-b4a4-43bc-904a-90b4ca769e85",
   "metadata": {},
   "outputs": [
    {
     "name": "stdout",
     "output_type": "stream",
     "text": [
      "Epoch 1/50\n",
      "\u001b[1m1011/1011\u001b[0m \u001b[32m━━━━━━━━━━━━━━━━━━━━\u001b[0m\u001b[37m\u001b[0m \u001b[1m16s\u001b[0m 15ms/step - loss: 0.0460 - mae: 0.1404 - val_loss: 0.0218 - val_mae: 0.0950\n",
      "Epoch 2/50\n",
      "\u001b[1m1011/1011\u001b[0m \u001b[32m━━━━━━━━━━━━━━━━━━━━\u001b[0m\u001b[37m\u001b[0m \u001b[1m15s\u001b[0m 15ms/step - loss: 0.0238 - mae: 0.0970 - val_loss: 0.0193 - val_mae: 0.0839\n",
      "Epoch 3/50\n",
      "\u001b[1m1011/1011\u001b[0m \u001b[32m━━━━━━━━━━━━━━━━━━━━\u001b[0m\u001b[37m\u001b[0m \u001b[1m15s\u001b[0m 15ms/step - loss: 0.0221 - mae: 0.0906 - val_loss: 0.0181 - val_mae: 0.0775\n",
      "Epoch 4/50\n",
      "\u001b[1m1011/1011\u001b[0m \u001b[32m━━━━━━━━━━━━━━━━━━━━\u001b[0m\u001b[37m\u001b[0m \u001b[1m15s\u001b[0m 15ms/step - loss: 0.0211 - mae: 0.0875 - val_loss: 0.0174 - val_mae: 0.0764\n",
      "Epoch 5/50\n",
      "\u001b[1m1011/1011\u001b[0m \u001b[32m━━━━━━━━━━━━━━━━━━━━\u001b[0m\u001b[37m\u001b[0m \u001b[1m17s\u001b[0m 16ms/step - loss: 0.0199 - mae: 0.0836 - val_loss: 0.0172 - val_mae: 0.0774\n",
      "Epoch 6/50\n",
      "\u001b[1m1011/1011\u001b[0m \u001b[32m━━━━━━━━━━━━━━━━━━━━\u001b[0m\u001b[37m\u001b[0m \u001b[1m16s\u001b[0m 16ms/step - loss: 0.0192 - mae: 0.0814 - val_loss: 0.0166 - val_mae: 0.0743\n",
      "Epoch 7/50\n",
      "\u001b[1m1011/1011\u001b[0m \u001b[32m━━━━━━━━━━━━━━━━━━━━\u001b[0m\u001b[37m\u001b[0m \u001b[1m17s\u001b[0m 17ms/step - loss: 0.0190 - mae: 0.0807 - val_loss: 0.0166 - val_mae: 0.0686\n",
      "Epoch 8/50\n",
      "\u001b[1m1011/1011\u001b[0m \u001b[32m━━━━━━━━━━━━━━━━━━━━\u001b[0m\u001b[37m\u001b[0m \u001b[1m15s\u001b[0m 15ms/step - loss: 0.0182 - mae: 0.0784 - val_loss: 0.0158 - val_mae: 0.0684\n",
      "Epoch 9/50\n",
      "\u001b[1m1011/1011\u001b[0m \u001b[32m━━━━━━━━━━━━━━━━━━━━\u001b[0m\u001b[37m\u001b[0m \u001b[1m18s\u001b[0m 18ms/step - loss: 0.0173 - mae: 0.0764 - val_loss: 0.0156 - val_mae: 0.0674\n",
      "Epoch 10/50\n",
      "\u001b[1m1011/1011\u001b[0m \u001b[32m━━━━━━━━━━━━━━━━━━━━\u001b[0m\u001b[37m\u001b[0m \u001b[1m16s\u001b[0m 16ms/step - loss: 0.0173 - mae: 0.0755 - val_loss: 0.0154 - val_mae: 0.0685\n",
      "Epoch 11/50\n",
      "\u001b[1m1011/1011\u001b[0m \u001b[32m━━━━━━━━━━━━━━━━━━━━\u001b[0m\u001b[37m\u001b[0m \u001b[1m15s\u001b[0m 15ms/step - loss: 0.0171 - mae: 0.0751 - val_loss: 0.0153 - val_mae: 0.0682\n",
      "Epoch 12/50\n",
      "\u001b[1m1011/1011\u001b[0m \u001b[32m━━━━━━━━━━━━━━━━━━━━\u001b[0m\u001b[37m\u001b[0m \u001b[1m15s\u001b[0m 15ms/step - loss: 0.0165 - mae: 0.0736 - val_loss: 0.0157 - val_mae: 0.0724\n",
      "Epoch 13/50\n",
      "\u001b[1m1011/1011\u001b[0m \u001b[32m━━━━━━━━━━━━━━━━━━━━\u001b[0m\u001b[37m\u001b[0m \u001b[1m15s\u001b[0m 15ms/step - loss: 0.0172 - mae: 0.0744 - val_loss: 0.0150 - val_mae: 0.0646\n",
      "Epoch 14/50\n",
      "\u001b[1m1011/1011\u001b[0m \u001b[32m━━━━━━━━━━━━━━━━━━━━\u001b[0m\u001b[37m\u001b[0m \u001b[1m17s\u001b[0m 17ms/step - loss: 0.0174 - mae: 0.0748 - val_loss: 0.0150 - val_mae: 0.0679\n",
      "Epoch 15/50\n",
      "\u001b[1m1011/1011\u001b[0m \u001b[32m━━━━━━━━━━━━━━━━━━━━\u001b[0m\u001b[37m\u001b[0m \u001b[1m16s\u001b[0m 16ms/step - loss: 0.0169 - mae: 0.0741 - val_loss: 0.0148 - val_mae: 0.0657\n",
      "Epoch 16/50\n",
      "\u001b[1m1011/1011\u001b[0m \u001b[32m━━━━━━━━━━━━━━━━━━━━\u001b[0m\u001b[37m\u001b[0m \u001b[1m16s\u001b[0m 16ms/step - loss: 0.0163 - mae: 0.0727 - val_loss: 0.0147 - val_mae: 0.0648\n",
      "Epoch 17/50\n",
      "\u001b[1m1011/1011\u001b[0m \u001b[32m━━━━━━━━━━━━━━━━━━━━\u001b[0m\u001b[37m\u001b[0m \u001b[1m16s\u001b[0m 16ms/step - loss: 0.0160 - mae: 0.0713 - val_loss: 0.0147 - val_mae: 0.0648\n",
      "Epoch 18/50\n",
      "\u001b[1m1011/1011\u001b[0m \u001b[32m━━━━━━━━━━━━━━━━━━━━\u001b[0m\u001b[37m\u001b[0m \u001b[1m16s\u001b[0m 16ms/step - loss: 0.0160 - mae: 0.0718 - val_loss: 0.0148 - val_mae: 0.0670\n",
      "Epoch 19/50\n",
      "\u001b[1m1011/1011\u001b[0m \u001b[32m━━━━━━━━━━━━━━━━━━━━\u001b[0m\u001b[37m\u001b[0m \u001b[1m16s\u001b[0m 16ms/step - loss: 0.0162 - mae: 0.0725 - val_loss: 0.0147 - val_mae: 0.0664\n",
      "Epoch 20/50\n",
      "\u001b[1m1011/1011\u001b[0m \u001b[32m━━━━━━━━━━━━━━━━━━━━\u001b[0m\u001b[37m\u001b[0m \u001b[1m16s\u001b[0m 16ms/step - loss: 0.0165 - mae: 0.0727 - val_loss: 0.0147 - val_mae: 0.0665\n",
      "Epoch 21/50\n",
      "\u001b[1m1011/1011\u001b[0m \u001b[32m━━━━━━━━━━━━━━━━━━━━\u001b[0m\u001b[37m\u001b[0m \u001b[1m16s\u001b[0m 16ms/step - loss: 0.0161 - mae: 0.0716 - val_loss: 0.0152 - val_mae: 0.0712\n",
      "Epoch 22/50\n",
      "\u001b[1m1011/1011\u001b[0m \u001b[32m━━━━━━━━━━━━━━━━━━━━\u001b[0m\u001b[37m\u001b[0m \u001b[1m16s\u001b[0m 16ms/step - loss: 0.0166 - mae: 0.0732 - val_loss: 0.0150 - val_mae: 0.0698\n",
      "Epoch 23/50\n",
      "\u001b[1m1011/1011\u001b[0m \u001b[32m━━━━━━━━━━━━━━━━━━━━\u001b[0m\u001b[37m\u001b[0m \u001b[1m16s\u001b[0m 16ms/step - loss: 0.0164 - mae: 0.0722 - val_loss: 0.0152 - val_mae: 0.0713\n",
      "Epoch 24/50\n",
      "\u001b[1m1011/1011\u001b[0m \u001b[32m━━━━━━━━━━━━━━━━━━━━\u001b[0m\u001b[37m\u001b[0m \u001b[1m16s\u001b[0m 16ms/step - loss: 0.0156 - mae: 0.0709 - val_loss: 0.0147 - val_mae: 0.0673\n",
      "Epoch 25/50\n",
      "\u001b[1m1011/1011\u001b[0m \u001b[32m━━━━━━━━━━━━━━━━━━━━\u001b[0m\u001b[37m\u001b[0m \u001b[1m17s\u001b[0m 16ms/step - loss: 0.0160 - mae: 0.0706 - val_loss: 0.0151 - val_mae: 0.0705\n",
      "Epoch 26/50\n",
      "\u001b[1m1011/1011\u001b[0m \u001b[32m━━━━━━━━━━━━━━━━━━━━\u001b[0m\u001b[37m\u001b[0m \u001b[1m16s\u001b[0m 16ms/step - loss: 0.0154 - mae: 0.0703 - val_loss: 0.0148 - val_mae: 0.0685\n",
      "Epoch 27/50\n",
      "\u001b[1m1011/1011\u001b[0m \u001b[32m━━━━━━━━━━━━━━━━━━━━\u001b[0m\u001b[37m\u001b[0m \u001b[1m16s\u001b[0m 16ms/step - loss: 0.0157 - mae: 0.0702 - val_loss: 0.0150 - val_mae: 0.0704\n",
      "Epoch 28/50\n",
      "\u001b[1m1011/1011\u001b[0m \u001b[32m━━━━━━━━━━━━━━━━━━━━\u001b[0m\u001b[37m\u001b[0m \u001b[1m16s\u001b[0m 16ms/step - loss: 0.0154 - mae: 0.0701 - val_loss: 0.0144 - val_mae: 0.0641\n",
      "Epoch 29/50\n",
      "\u001b[1m1011/1011\u001b[0m \u001b[32m━━━━━━━━━━━━━━━━━━━━\u001b[0m\u001b[37m\u001b[0m \u001b[1m14s\u001b[0m 13ms/step - loss: 0.0162 - mae: 0.0718 - val_loss: 0.0148 - val_mae: 0.0688\n",
      "Epoch 30/50\n",
      "\u001b[1m1011/1011\u001b[0m \u001b[32m━━━━━━━━━━━━━━━━━━━━\u001b[0m\u001b[37m\u001b[0m \u001b[1m13s\u001b[0m 13ms/step - loss: 0.0166 - mae: 0.0723 - val_loss: 0.0147 - val_mae: 0.0680\n",
      "Epoch 31/50\n",
      "\u001b[1m1011/1011\u001b[0m \u001b[32m━━━━━━━━━━━━━━━━━━━━\u001b[0m\u001b[37m\u001b[0m \u001b[1m13s\u001b[0m 13ms/step - loss: 0.0163 - mae: 0.0717 - val_loss: 0.0151 - val_mae: 0.0709\n",
      "Epoch 32/50\n",
      "\u001b[1m1011/1011\u001b[0m \u001b[32m━━━━━━━━━━━━━━━━━━━━\u001b[0m\u001b[37m\u001b[0m \u001b[1m13s\u001b[0m 13ms/step - loss: 0.0164 - mae: 0.0716 - val_loss: 0.0146 - val_mae: 0.0675\n",
      "Epoch 33/50\n",
      "\u001b[1m1011/1011\u001b[0m \u001b[32m━━━━━━━━━━━━━━━━━━━━\u001b[0m\u001b[37m\u001b[0m \u001b[1m13s\u001b[0m 13ms/step - loss: 0.0162 - mae: 0.0706 - val_loss: 0.0148 - val_mae: 0.0687\n",
      "Epoch 34/50\n",
      "\u001b[1m1011/1011\u001b[0m \u001b[32m━━━━━━━━━━━━━━━━━━━━\u001b[0m\u001b[37m\u001b[0m \u001b[1m13s\u001b[0m 13ms/step - loss: 0.0164 - mae: 0.0715 - val_loss: 0.0146 - val_mae: 0.0674\n",
      "Epoch 35/50\n",
      "\u001b[1m1011/1011\u001b[0m \u001b[32m━━━━━━━━━━━━━━━━━━━━\u001b[0m\u001b[37m\u001b[0m \u001b[1m13s\u001b[0m 13ms/step - loss: 0.0159 - mae: 0.0702 - val_loss: 0.0150 - val_mae: 0.0705\n",
      "Epoch 36/50\n",
      "\u001b[1m1011/1011\u001b[0m \u001b[32m━━━━━━━━━━━━━━━━━━━━\u001b[0m\u001b[37m\u001b[0m \u001b[1m13s\u001b[0m 13ms/step - loss: 0.0163 - mae: 0.0714 - val_loss: 0.0145 - val_mae: 0.0664\n",
      "Epoch 37/50\n",
      "\u001b[1m1011/1011\u001b[0m \u001b[32m━━━━━━━━━━━━━━━━━━━━\u001b[0m\u001b[37m\u001b[0m \u001b[1m13s\u001b[0m 13ms/step - loss: 0.0156 - mae: 0.0701 - val_loss: 0.0145 - val_mae: 0.0656\n",
      "Epoch 38/50\n",
      "\u001b[1m1011/1011\u001b[0m \u001b[32m━━━━━━━━━━━━━━━━━━━━\u001b[0m\u001b[37m\u001b[0m \u001b[1m13s\u001b[0m 13ms/step - loss: 0.0157 - mae: 0.0695 - val_loss: 0.0144 - val_mae: 0.0650\n",
      "Epoch 39/50\n",
      "\u001b[1m1011/1011\u001b[0m \u001b[32m━━━━━━━━━━━━━━━━━━━━\u001b[0m\u001b[37m\u001b[0m \u001b[1m13s\u001b[0m 13ms/step - loss: 0.0157 - mae: 0.0699 - val_loss: 0.0150 - val_mae: 0.0703\n",
      "Epoch 40/50\n",
      "\u001b[1m1011/1011\u001b[0m \u001b[32m━━━━━━━━━━━━━━━━━━━━\u001b[0m\u001b[37m\u001b[0m \u001b[1m13s\u001b[0m 13ms/step - loss: 0.0156 - mae: 0.0698 - val_loss: 0.0149 - val_mae: 0.0697\n",
      "Epoch 41/50\n",
      "\u001b[1m1011/1011\u001b[0m \u001b[32m━━━━━━━━━━━━━━━━━━━━\u001b[0m\u001b[37m\u001b[0m \u001b[1m13s\u001b[0m 13ms/step - loss: 0.0159 - mae: 0.0703 - val_loss: 0.0151 - val_mae: 0.0705\n",
      "Epoch 42/50\n",
      "\u001b[1m1011/1011\u001b[0m \u001b[32m━━━━━━━━━━━━━━━━━━━━\u001b[0m\u001b[37m\u001b[0m \u001b[1m13s\u001b[0m 13ms/step - loss: 0.0159 - mae: 0.0705 - val_loss: 0.0144 - val_mae: 0.0632\n",
      "Epoch 43/50\n",
      "\u001b[1m1011/1011\u001b[0m \u001b[32m━━━━━━━━━━━━━━━━━━━━\u001b[0m\u001b[37m\u001b[0m \u001b[1m13s\u001b[0m 13ms/step - loss: 0.0165 - mae: 0.0707 - val_loss: 0.0148 - val_mae: 0.0686\n",
      "Epoch 44/50\n",
      "\u001b[1m1011/1011\u001b[0m \u001b[32m━━━━━━━━━━━━━━━━━━━━\u001b[0m\u001b[37m\u001b[0m \u001b[1m13s\u001b[0m 13ms/step - loss: 0.0163 - mae: 0.0710 - val_loss: 0.0144 - val_mae: 0.0650\n",
      "Epoch 45/50\n",
      "\u001b[1m1011/1011\u001b[0m \u001b[32m━━━━━━━━━━━━━━━━━━━━\u001b[0m\u001b[37m\u001b[0m \u001b[1m13s\u001b[0m 13ms/step - loss: 0.0159 - mae: 0.0693 - val_loss: 0.0150 - val_mae: 0.0701\n",
      "Epoch 46/50\n",
      "\u001b[1m1011/1011\u001b[0m \u001b[32m━━━━━━━━━━━━━━━━━━━━\u001b[0m\u001b[37m\u001b[0m \u001b[1m13s\u001b[0m 13ms/step - loss: 0.0157 - mae: 0.0693 - val_loss: 0.0144 - val_mae: 0.0663\n",
      "Epoch 47/50\n",
      "\u001b[1m1011/1011\u001b[0m \u001b[32m━━━━━━━━━━━━━━━━━━━━\u001b[0m\u001b[37m\u001b[0m \u001b[1m13s\u001b[0m 13ms/step - loss: 0.0159 - mae: 0.0698 - val_loss: 0.0152 - val_mae: 0.0718\n",
      "Epoch 48/50\n",
      "\u001b[1m1011/1011\u001b[0m \u001b[32m━━━━━━━━━━━━━━━━━━━━\u001b[0m\u001b[37m\u001b[0m \u001b[1m13s\u001b[0m 13ms/step - loss: 0.0149 - mae: 0.0680 - val_loss: 0.0147 - val_mae: 0.0681\n",
      "Epoch 49/50\n",
      "\u001b[1m1011/1011\u001b[0m \u001b[32m━━━━━━━━━━━━━━━━━━━━\u001b[0m\u001b[37m\u001b[0m \u001b[1m13s\u001b[0m 13ms/step - loss: 0.0155 - mae: 0.0692 - val_loss: 0.0150 - val_mae: 0.0693\n",
      "Epoch 50/50\n",
      "\u001b[1m 490/1011\u001b[0m \u001b[32m━━━━━━━━━\u001b[0m\u001b[37m━━━━━━━━━━━\u001b[0m \u001b[1m6s\u001b[0m 12ms/step - loss: 0.0153 - mae: 0.0686"
     ]
    }
   ],
   "source": [
    "history = model.fit(X_train, y_train, validation_split=0.2, epochs=50, batch_size=32, verbose=1)"
   ]
  },
  {
   "cell_type": "code",
   "execution_count": null,
   "id": "7e952d36-197f-4a32-a2c5-27f989fffeed",
   "metadata": {},
   "outputs": [],
   "source": [
    "\n",
    "end_time = time.time()\n",
    "\n",
    "training_time = end_time - start_time\n",
    "\n",
    "\n",
    "print(f\"Training Time: {training_time:.2f} seconds\")"
   ]
  },
  {
   "cell_type": "code",
   "execution_count": null,
   "id": "c9c16dca-9daa-485f-8e99-cbac83e8eb3b",
   "metadata": {},
   "outputs": [],
   "source": [
    "y_pred = model.predict(X_test)\n",
    "\n",
    "y_test_rescaled = scaler_y.inverse_transform(y_test)\n",
    "y_pred_rescaled = scaler_y.inverse_transform(y_pred)"
   ]
  },
  {
   "cell_type": "code",
   "execution_count": null,
   "id": "806724aa-35d1-43ca-a12e-ac12ff1babe1",
   "metadata": {},
   "outputs": [],
   "source": [
    "\n",
    "from sklearn.metrics import mean_squared_error, mean_absolute_error, r2_score\n",
    "mse = mean_squared_error(y_test_rescaled, y_pred_rescaled)\n",
    "mae = mean_absolute_error(y_test_rescaled, y_pred_rescaled)\n",
    "r2 = r2_score(y_test_rescaled, y_pred_rescaled)\n",
    "\n",
    "print(f\"Mean Squared Error (MSE): {mse}\")\n",
    "print(f\"Mean Absolute Error (MAE): {mae}\")\n",
    "print(f\"R^2 Score: {r2}\")\n"
   ]
  },
  {
   "cell_type": "code",
   "execution_count": null,
   "id": "c3ee8f13-668c-4939-a989-024cca84a719",
   "metadata": {},
   "outputs": [],
   "source": [
    "import matplotlib.pyplot as plt"
   ]
  },
  {
   "cell_type": "code",
   "execution_count": null,
   "id": "88455933-41e0-4968-b81a-dbfed15eab3c",
   "metadata": {},
   "outputs": [],
   "source": [
    "import seaborn as sns\n",
    "import matplotlib.pyplot as plt\n",
    "\n",
    "\n",
    "correlation_matrix = df.corr()\n",
    "\n",
    "plt.figure(figsize=(10, 8))\n",
    "sns.heatmap(correlation_matrix, annot=True, fmt=\".2f\", cmap=\"coolwarm\", cbar=True)\n",
    "\n",
    "plt.title(\"Correlation Matrix Heatmap\")\n",
    "plt.show()"
   ]
  },
  {
   "cell_type": "code",
   "execution_count": null,
   "id": "d6107e35-1fc0-40ab-bca2-66049d8f7969",
   "metadata": {},
   "outputs": [],
   "source": [
    "plt.figure(figsize=(12, 6))\n",
    "plt.plot(df.index[-len(y_test_rescaled):][:200], y_test_rescaled[:200], label=\"Actual\", alpha=0.8)\n",
    "plt.plot(df.index[-len(y_pred_rescaled):][:200], y_pred_rescaled[:200], label=\"Predicted\", alpha=0.8)\n",
    "plt.title(\"LSTM: Actual vs Predicted (Hourly Time Series)\")\n",
    "plt.xlabel(\"Time (Hourly)\")\n",
    "plt.ylabel(\"Power Output (kW)\")\n",
    "plt.legend()\n",
    "plt.grid()\n",
    "plt.xticks(rotation=45)\n",
    "plt.tight_layout()\n",
    "plt.show()"
   ]
  },
  {
   "cell_type": "code",
   "execution_count": null,
   "id": "47eae621-adee-4012-9d5b-361c644b56f8",
   "metadata": {},
   "outputs": [],
   "source": [
    "# Create a DataFrame with actual, predicted, and timestamps\n",
    "results_df = pd.DataFrame({\n",
    "    'Timestamp': df.index[-len(y_test_rescaled):],  # Use the datetime index for test data\n",
    "    'Actual': y_test_rescaled.flatten(),           # Flatten the arrays for tabular display\n",
    "    'Predicted': y_pred_rescaled.flatten()\n",
    "})\n",
    "\n",
    "# Display the first 200 rows\n",
    "print(results_df.head(200))\n",
    "\n",
    "# Save as CSV if needed\n",
    "results_df.to_csv('predicted_vs_actual.csv', index=False)"
   ]
  },
  {
   "cell_type": "code",
   "execution_count": null,
   "id": "20ce4b58-fc98-47c2-961d-3b7f60a22246",
   "metadata": {},
   "outputs": [],
   "source": [
    "import matplotlib.pyplot as plt\n",
    "hours = range(24)  # Horas en el eje X\n",
    "plt.figure(figsize=(10, 6))\n",
    "plt.plot(hours, y_test_rescaled[:24].flatten(), label='Actual', marker='o')\n",
    "plt.plot(hours, y_pred_rescaled[:24].flatten(), label='Predicted', marker='x')\n",
    "plt.title('LSTM Wind Power Forecasting (First 24 Hours)')\n",
    "plt.xlabel('Hours')\n",
    "plt.ylabel('Wind Power (kW)')\n",
    "plt.legend()\n",
    "plt.grid(True)\n",
    "plt.show()"
   ]
  },
  {
   "cell_type": "code",
   "execution_count": null,
   "id": "20f61fbe-f929-4d5f-aa41-7d3689eddcab",
   "metadata": {},
   "outputs": [],
   "source": []
  },
  {
   "cell_type": "code",
   "execution_count": null,
   "id": "96a6f17f-daae-4ae8-8b2e-314e7198e881",
   "metadata": {},
   "outputs": [],
   "source": []
  },
  {
   "cell_type": "code",
   "execution_count": null,
   "id": "239e3f52-d489-4cf0-bad3-172af4452558",
   "metadata": {},
   "outputs": [],
   "source": []
  }
 ],
 "metadata": {
  "kernelspec": {
   "display_name": "Python 3 (ipykernel)",
   "language": "python",
   "name": "python3"
  },
  "language_info": {
   "codemirror_mode": {
    "name": "ipython",
    "version": 3
   },
   "file_extension": ".py",
   "mimetype": "text/x-python",
   "name": "python",
   "nbconvert_exporter": "python",
   "pygments_lexer": "ipython3",
   "version": "3.12.4"
  }
 },
 "nbformat": 4,
 "nbformat_minor": 5
}
